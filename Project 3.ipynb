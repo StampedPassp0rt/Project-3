{
 "cells": [
  {
   "cell_type": "markdown",
   "metadata": {},
   "source": [
    "Just a note to self, going with Scenario 2.\n",
    "\n",
    "Problem Statement is to make a recommendation for where to open a new liquor store. Possible criteria of success would be:\n",
    "\n",
    "1) Choosing a location where liquor sales are high (and we are able to predict them well);\n",
    "\n",
    "2) Choosing a location where the number of stores is increasing, as that could indicate a market with growth.\n",
    "\n",
    "3) Choosing a location where liquor sales are accelerating (and possibly also where stores are not), as that could imply demand without new stores competing, yet.\n",
    "\n",
    "4) Weighting sales to population and population growth to choose locations with good trends. (Need to work on this a little).\n",
    "\n"
   ]
  },
  {
   "cell_type": "code",
   "execution_count": null,
   "metadata": {
    "collapsed": true
   },
   "outputs": [],
   "source": []
  }
 ],
 "metadata": {
  "kernelspec": {
   "display_name": "Python 2",
   "language": "python",
   "name": "python2"
  },
  "language_info": {
   "codemirror_mode": {
    "name": "ipython",
    "version": 2
   },
   "file_extension": ".py",
   "mimetype": "text/x-python",
   "name": "python",
   "nbconvert_exporter": "python",
   "pygments_lexer": "ipython2",
   "version": "2.7.11"
  }
 },
 "nbformat": 4,
 "nbformat_minor": 0
}
